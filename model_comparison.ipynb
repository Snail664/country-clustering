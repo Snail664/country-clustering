{
 "cells": [
  {
   "cell_type": "code",
   "execution_count": 45,
   "metadata": {},
   "outputs": [
    {
     "name": "stdout",
     "output_type": "stream",
     "text": [
      "Requirement already satisfied: matplotlib_venn in /Applications/anaconda3/lib/python3.9/site-packages (0.11.7)\n",
      "Requirement already satisfied: numpy in /Applications/anaconda3/lib/python3.9/site-packages (from matplotlib_venn) (1.20.3)\n",
      "Requirement already satisfied: scipy in /Applications/anaconda3/lib/python3.9/site-packages (from matplotlib_venn) (1.7.1)\n",
      "Requirement already satisfied: matplotlib in /Applications/anaconda3/lib/python3.9/site-packages (from matplotlib_venn) (3.4.3)\n",
      "Requirement already satisfied: python-dateutil>=2.7 in /Applications/anaconda3/lib/python3.9/site-packages (from matplotlib->matplotlib_venn) (2.8.2)\n",
      "Requirement already satisfied: pillow>=6.2.0 in /Applications/anaconda3/lib/python3.9/site-packages (from matplotlib->matplotlib_venn) (8.4.0)\n",
      "Requirement already satisfied: kiwisolver>=1.0.1 in /Applications/anaconda3/lib/python3.9/site-packages (from matplotlib->matplotlib_venn) (1.3.1)\n",
      "Requirement already satisfied: pyparsing>=2.2.1 in /Applications/anaconda3/lib/python3.9/site-packages (from matplotlib->matplotlib_venn) (3.0.4)\n",
      "Requirement already satisfied: cycler>=0.10 in /Applications/anaconda3/lib/python3.9/site-packages (from matplotlib->matplotlib_venn) (0.10.0)\n",
      "Requirement already satisfied: six in /Applications/anaconda3/lib/python3.9/site-packages (from cycler>=0.10->matplotlib->matplotlib_venn) (1.16.0)\n"
     ]
    }
   ],
   "source": [
    "# install matplotlib_venn\n",
    "import sys\n",
    "!{sys.executable} -m pip install matplotlib_venn"
   ]
  },
  {
   "cell_type": "code",
   "execution_count": 46,
   "metadata": {},
   "outputs": [],
   "source": [
    "import pandas as pd\n",
    "import numpy as np\n",
    "import matplotlib.pyplot as plt\n",
    "from matplotlib_venn import venn2\n",
    "import seaborn as sb\n",
    "\n",
    "sb.set_theme()\n",
    "\n",
    "%store -r final_data\n",
    "%store -r hierar_countries\n",
    "%store -r kmeans_countries\n",
    "\n",
    "hierar_df = hierar_countries.copy()\n",
    "kmeans_df = kmeans_countries.copy()"
   ]
  },
  {
   "cell_type": "code",
   "execution_count": 47,
   "metadata": {},
   "outputs": [
    {
     "name": "stdout",
     "output_type": "stream",
     "text": [
      "Hierar countries: \n",
      "4                                Angola\n",
      "18                                Benin\n",
      "26                         Burkina Faso\n",
      "27                              Burundi\n",
      "29                             Cambodia\n",
      "30                             Cameroon\n",
      "32             Central African Republic\n",
      "33                                 Chad\n",
      "45     Democratic Republic of the Congo\n",
      "53                    Equatorial Guinea\n",
      "54                              Eritrea\n",
      "56                             Ethiopia\n",
      "68                               Guinea\n",
      "70                                Haiti\n",
      "85                                Kenya\n",
      "89     Lao People's Democratic Republic\n",
      "93                              Liberia\n",
      "98                           Madagascar\n",
      "99                               Malawi\n",
      "102                                Mali\n",
      "113                          Mozambique\n",
      "114                             Myanmar\n",
      "117                               Nepal\n",
      "121                               Niger\n",
      "128                    Papua New Guinea\n",
      "139                              Rwanda\n",
      "150                        Sierra Leone\n",
      "155                             Somalia\n",
      "157                         South Sudan\n",
      "170                                Togo\n",
      "177                              Uganda\n",
      "181         United Republic of Tanzania\n",
      "189                              Zambia\n",
      "190                            Zimbabwe\n",
      "Name: country, dtype: string\n"
     ]
    }
   ],
   "source": [
    "# Hierar_countries\n",
    "print(\"Hierar countries: \")\n",
    "print(hierar_df['country'])"
   ]
  },
  {
   "cell_type": "code",
   "execution_count": 48,
   "metadata": {},
   "outputs": [
    {
     "name": "stdout",
     "output_type": "stream",
     "text": [
      "Kmeans countries: \n",
      "0                           Afghanistan\n",
      "4                                Angola\n",
      "18                                Benin\n",
      "20     Bolivia (Plurinational State of)\n",
      "26                         Burkina Faso\n",
      "27                              Burundi\n",
      "29                             Cambodia\n",
      "30                             Cameroon\n",
      "32             Central African Republic\n",
      "33                                 Chad\n",
      "37                              Comoros\n",
      "38                                Congo\n",
      "45     Democratic Republic of the Congo\n",
      "47                             Djibouti\n",
      "53                    Equatorial Guinea\n",
      "54                              Eritrea\n",
      "56                             Ethiopia\n",
      "61                               Gambia\n",
      "64                                Ghana\n",
      "68                               Guinea\n",
      "70                                Haiti\n",
      "85                                Kenya\n",
      "86                             Kiribati\n",
      "89     Lao People's Democratic Republic\n",
      "92                              Lesotho\n",
      "93                              Liberia\n",
      "98                           Madagascar\n",
      "99                               Malawi\n",
      "102                                Mali\n",
      "105                          Mauritania\n",
      "108    Micronesia (Federated States of)\n",
      "110                            Mongolia\n",
      "113                          Mozambique\n",
      "114                             Myanmar\n",
      "117                               Nepal\n",
      "121                               Niger\n",
      "122                             Nigeria\n",
      "125                            Pakistan\n",
      "128                    Papua New Guinea\n",
      "139                              Rwanda\n",
      "147                             Senegal\n",
      "150                        Sierra Leone\n",
      "154                     Solomon Islands\n",
      "155                             Somalia\n",
      "157                         South Sudan\n",
      "160                               Sudan\n",
      "162                           Swaziland\n",
      "166                          Tajikistan\n",
      "170                                Togo\n",
      "177                              Uganda\n",
      "181         United Republic of Tanzania\n",
      "184                          Uzbekistan\n",
      "185                             Vanuatu\n",
      "188                               Yemen\n",
      "189                              Zambia\n",
      "190                            Zimbabwe\n",
      "Name: country, dtype: string\n"
     ]
    }
   ],
   "source": [
    "# Hierar_countries\n",
    "print(\"Kmeans countries: \")\n",
    "print(kmeans_df['country'])"
   ]
  },
  {
   "cell_type": "code",
   "execution_count": 49,
   "metadata": {},
   "outputs": [
    {
     "name": "stdout",
     "output_type": "stream",
     "text": [
      "Countries that are not common to the clusters from the 2 models: \n",
      "0                          Afghanistan\n",
      "3     Bolivia (Plurinational State of)\n",
      "10                             Comoros\n",
      "11                               Congo\n",
      "13                            Djibouti\n",
      "17                              Gambia\n",
      "18                               Ghana\n",
      "22                            Kiribati\n",
      "24                             Lesotho\n",
      "29                          Mauritania\n",
      "30    Micronesia (Federated States of)\n",
      "31                            Mongolia\n",
      "36                             Nigeria\n",
      "37                            Pakistan\n",
      "40                             Senegal\n",
      "42                     Solomon Islands\n",
      "45                               Sudan\n",
      "46                           Swaziland\n",
      "47                          Tajikistan\n",
      "51                          Uzbekistan\n",
      "52                             Vanuatu\n",
      "53                               Yemen\n",
      "dtype: object\n"
     ]
    }
   ],
   "source": [
    "union = pd.Series(np.union1d(kmeans_df['country'], hierar_df['country']))\n",
    "intersection = pd.Series(np.intersect1d(kmeans_df['country'], hierar_df['country']))\n",
    "notcommon = union[~union.isin(intersection)]\n",
    "\n",
    "print(\"Countries that are not common to the clusters from the 2 models: \")\n",
    "print(notcommon)"
   ]
  },
  {
   "cell_type": "code",
   "execution_count": 50,
   "metadata": {},
   "outputs": [
    {
     "data": {
      "text/plain": [
       "<matplotlib_venn._common.VennDiagram at 0x7fd1f80f11c0>"
      ]
     },
     "execution_count": 50,
     "metadata": {},
     "output_type": "execute_result"
    },
    {
     "data": {
      "image/png": "[encoded data removed]",
      "text/plain": [
       "<Figure size 432x288 with 1 Axes>"
      ]
     },
     "metadata": {},
     "output_type": "display_data"
    }
   ],
   "source": [
    "plt.title(\"Overlaps of predictions of underdeveloped countries\")\n",
    "venn2(subsets = (kmeans_df['country'].size, hierar_df['country'].size, intersection.size), set_labels = ('KMeans', 'Hierar'))"
   ]
  },
  {
   "cell_type": "code",
   "execution_count": null,
   "metadata": {},
   "outputs": [],
   "source": []
  }
 ],
 "metadata": {
  "interpreter": {
   "hash": "cd78fef2128015050713e82ca51c6520b11aee7c9ee8df750520bbbc7384cbaa"
  },
  "kernelspec": {
   "display_name": "Python 3.9.7 ('base')",
   "language": "python",
   "name": "python3"
  },
  "language_info": {
   "codemirror_mode": {
    "name": "ipython",
    "version": 3
   },
   "file_extension": ".py",
   "mimetype": "text/x-python",
   "name": "python",
   "nbconvert_exporter": "python",
   "pygments_lexer": "ipython3",
   "version": "3.9.7"
  },
  "orig_nbformat": 4
 },
 "nbformat": 4,
 "nbformat_minor": 2
}
