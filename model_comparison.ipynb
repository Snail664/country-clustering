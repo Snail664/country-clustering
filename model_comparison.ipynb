{
 "cells": [
  {
   "cell_type": "code",
   "execution_count": 57,
   "metadata": {},
   "outputs": [
    {
     "name": "stdout",
     "output_type": "stream",
     "text": [
      "Requirement already satisfied: matplotlib_venn in /Applications/anaconda3/lib/python3.9/site-packages (0.11.7)\n",
      "Requirement already satisfied: scipy in /Applications/anaconda3/lib/python3.9/site-packages (from matplotlib_venn) (1.7.1)\n",
      "Requirement already satisfied: matplotlib in /Applications/anaconda3/lib/python3.9/site-packages (from matplotlib_venn) (3.4.3)\n",
      "Requirement already satisfied: numpy in /Applications/anaconda3/lib/python3.9/site-packages (from matplotlib_venn) (1.20.3)\n",
      "Requirement already satisfied: kiwisolver>=1.0.1 in /Applications/anaconda3/lib/python3.9/site-packages (from matplotlib->matplotlib_venn) (1.3.1)\n",
      "Requirement already satisfied: cycler>=0.10 in /Applications/anaconda3/lib/python3.9/site-packages (from matplotlib->matplotlib_venn) (0.10.0)\n",
      "Requirement already satisfied: pyparsing>=2.2.1 in /Applications/anaconda3/lib/python3.9/site-packages (from matplotlib->matplotlib_venn) (3.0.4)\n",
      "Requirement already satisfied: pillow>=6.2.0 in /Applications/anaconda3/lib/python3.9/site-packages (from matplotlib->matplotlib_venn) (8.4.0)\n",
      "Requirement already satisfied: python-dateutil>=2.7 in /Applications/anaconda3/lib/python3.9/site-packages (from matplotlib->matplotlib_venn) (2.8.2)\n",
      "Requirement already satisfied: six in /Applications/anaconda3/lib/python3.9/site-packages (from cycler>=0.10->matplotlib->matplotlib_venn) (1.16.0)\n"
     ]
    }
   ],
   "source": [
    "# install matplotlib_venn\n",
    "import sys\n",
    "!{sys.executable} -m pip install matplotlib_venn"
   ]
  },
  {
   "cell_type": "code",
   "execution_count": 58,
   "metadata": {},
   "outputs": [],
   "source": [
    "import pandas as pd\n",
    "import numpy as np\n",
    "import matplotlib.pyplot as plt\n",
    "from matplotlib_venn import venn2\n",
    "import seaborn as sb\n",
    "\n",
    "sb.set_theme()\n",
    "\n",
    "%store -r final_data\n",
    "%store -r hierar_countries\n",
    "%store -r kmeans_countries\n",
    "\n",
    "hierar_df = hierar_countries.copy()\n",
    "kmeans_df = kmeans_countries.copy()"
   ]
  },
  {
   "cell_type": "code",
   "execution_count": 59,
   "metadata": {},
   "outputs": [
    {
     "name": "stdout",
     "output_type": "stream",
     "text": [
      "Hierar countries: \n",
      "4                                Angola\n",
      "18                                Benin\n",
      "26                         Burkina Faso\n",
      "27                              Burundi\n",
      "29                             Cambodia\n",
      "30                             Cameroon\n",
      "32             Central African Republic\n",
      "33                                 Chad\n",
      "45     Democratic Republic of the Congo\n",
      "53                    Equatorial Guinea\n",
      "54                              Eritrea\n",
      "56                             Ethiopia\n",
      "68                               Guinea\n",
      "70                                Haiti\n",
      "85                                Kenya\n",
      "89     Lao People's Democratic Republic\n",
      "93                              Liberia\n",
      "98                           Madagascar\n",
      "99                               Malawi\n",
      "102                                Mali\n",
      "113                          Mozambique\n",
      "114                             Myanmar\n",
      "117                               Nepal\n",
      "121                               Niger\n",
      "128                    Papua New Guinea\n",
      "139                              Rwanda\n",
      "150                        Sierra Leone\n",
      "155                             Somalia\n",
      "157                         South Sudan\n",
      "170                                Togo\n",
      "177                              Uganda\n",
      "181         United Republic of Tanzania\n",
      "189                              Zambia\n",
      "190                            Zimbabwe\n",
      "Name: country, dtype: string\n"
     ]
    }
   ],
   "source": [
    "# Hierar_countries\n",
    "print(\"Hierar countries: \")\n",
    "print(hierar_df['country'])"
   ]
  },
  {
   "cell_type": "code",
   "execution_count": 60,
   "metadata": {},
   "outputs": [
    {
     "name": "stdout",
     "output_type": "stream",
     "text": [
      "Kmeans countries: \n",
      "0                           Afghanistan\n",
      "4                                Angola\n",
      "18                                Benin\n",
      "20     Bolivia (Plurinational State of)\n",
      "26                         Burkina Faso\n",
      "27                              Burundi\n",
      "29                             Cambodia\n",
      "30                             Cameroon\n",
      "32             Central African Republic\n",
      "33                                 Chad\n",
      "37                              Comoros\n",
      "38                                Congo\n",
      "45     Democratic Republic of the Congo\n",
      "47                             Djibouti\n",
      "53                    Equatorial Guinea\n",
      "54                              Eritrea\n",
      "56                             Ethiopia\n",
      "61                               Gambia\n",
      "64                                Ghana\n",
      "68                               Guinea\n",
      "70                                Haiti\n",
      "85                                Kenya\n",
      "86                             Kiribati\n",
      "89     Lao People's Democratic Republic\n",
      "92                              Lesotho\n",
      "93                              Liberia\n",
      "98                           Madagascar\n",
      "99                               Malawi\n",
      "102                                Mali\n",
      "105                          Mauritania\n",
      "108    Micronesia (Federated States of)\n",
      "110                            Mongolia\n",
      "113                          Mozambique\n",
      "114                             Myanmar\n",
      "117                               Nepal\n",
      "121                               Niger\n",
      "122                             Nigeria\n",
      "125                            Pakistan\n",
      "128                    Papua New Guinea\n",
      "139                              Rwanda\n",
      "147                             Senegal\n",
      "150                        Sierra Leone\n",
      "154                     Solomon Islands\n",
      "155                             Somalia\n",
      "157                         South Sudan\n",
      "160                               Sudan\n",
      "162                           Swaziland\n",
      "166                          Tajikistan\n",
      "170                                Togo\n",
      "177                              Uganda\n",
      "181         United Republic of Tanzania\n",
      "184                          Uzbekistan\n",
      "185                             Vanuatu\n",
      "188                               Yemen\n",
      "189                              Zambia\n",
      "190                            Zimbabwe\n",
      "Name: country, dtype: string\n"
     ]
    }
   ],
   "source": [
    "# Hierar_countries\n",
    "print(\"Kmeans countries: \")\n",
    "print(kmeans_df['country'])"
   ]
  },
  {
   "cell_type": "code",
   "execution_count": 61,
   "metadata": {},
   "outputs": [
    {
     "name": "stdout",
     "output_type": "stream",
     "text": [
      "Countries that are not common to the clusters from the 2 models: \n",
      "0                          Afghanistan\n",
      "3     Bolivia (Plurinational State of)\n",
      "10                             Comoros\n",
      "11                               Congo\n",
      "13                            Djibouti\n",
      "17                              Gambia\n",
      "18                               Ghana\n",
      "22                            Kiribati\n",
      "24                             Lesotho\n",
      "29                          Mauritania\n",
      "30    Micronesia (Federated States of)\n",
      "31                            Mongolia\n",
      "36                             Nigeria\n",
      "37                            Pakistan\n",
      "40                             Senegal\n",
      "42                     Solomon Islands\n",
      "45                               Sudan\n",
      "46                           Swaziland\n",
      "47                          Tajikistan\n",
      "51                          Uzbekistan\n",
      "52                             Vanuatu\n",
      "53                               Yemen\n",
      "dtype: object\n"
     ]
    }
   ],
   "source": [
    "union = pd.Series(np.union1d(kmeans_df['country'], hierar_df['country']))\n",
    "intersection = pd.Series(np.intersect1d(kmeans_df['country'], hierar_df['country']))\n",
    "notcommon = union[~union.isin(intersection)]\n",
    "\n",
    "print(\"Countries that are not common to the clusters from the 2 models: \")\n",
    "print(notcommon)"
   ]
  },
  {
   "cell_type": "code",
   "execution_count": 62,
   "metadata": {},
   "outputs": [
    {
     "data": {
      "text/plain": [
       "<matplotlib_venn._common.VennDiagram at 0x7fd1fa9419a0>"
      ]
     },
     "execution_count": 62,
     "metadata": {},
     "output_type": "execute_result"
    },
    {
     "data": {
      "image/png": "[encoded data removed]",
      "text/plain": [
       "<Figure size 432x288 with 1 Axes>"
      ]
     },
     "metadata": {},
     "output_type": "display_data"
    }
   ],
   "source": [
    "plt.title(\"Overlaps of predictions of underdeveloped countries\")\n",
    "venn2(subsets = (kmeans_df['country'].size, hierar_df['country'].size, intersection.size), set_labels = ('KMeans', 'Hierar'))"
   ]
  },
  {
   "cell_type": "code",
   "execution_count": 63,
   "metadata": {},
   "outputs": [],
   "source": [
    "# let's examine the countries in the intersection\n",
    "df = final_data[final_data['country'].isin(intersection)]"
   ]
  },
  {
   "cell_type": "code",
   "execution_count": 64,
   "metadata": {},
   "outputs": [
    {
     "data": {
      "text/plain": [
       "(34, 17)"
      ]
     },
     "execution_count": 64,
     "metadata": {},
     "output_type": "execute_result"
    }
   ],
   "source": [
    "df.shape"
   ]
  },
  {
   "cell_type": "code",
   "execution_count": 65,
   "metadata": {},
   "outputs": [
    {
     "data": {
      "text/html": [
       "<div>\n",
       "<style scoped>\n",
       "    .dataframe tbody tr th:only-of-type {\n",
       "        vertical-align: middle;\n",
       "    }\n",
       "\n",
       "    .dataframe tbody tr th {\n",
       "        vertical-align: top;\n",
       "    }\n",
       "\n",
       "    .dataframe thead th {\n",
       "        text-align: right;\n",
       "    }\n",
       "</style>\n",
       "<table border=\"1\" class=\"dataframe\">\n",
       "  <thead>\n",
       "    <tr style=\"text-align: right;\">\n",
       "      <th></th>\n",
       "      <th>GDP per capita (current US$)</th>\n",
       "      <th>Economy: Agriculture (% of GVA)</th>\n",
       "      <th>Agricultural production index (2004-2006=100)</th>\n",
       "      <th>International trade: Exports (million US$)</th>\n",
       "      <th>International trade: Imports (million US$)</th>\n",
       "      <th>Population growth rate (average annual %)</th>\n",
       "      <th>Urban population (% of total population)</th>\n",
       "      <th>Infant mortality rate (per 1000 live births</th>\n",
       "      <th>Mobile-cellular subscriptions (per 100 inhabitants)</th>\n",
       "      <th>Energy supply per capita (Gigajoules)</th>\n",
       "      <th>country</th>\n",
       "      <th>Region</th>\n",
       "      <th>Average labour force participation</th>\n",
       "      <th>Average life expectancy</th>\n",
       "      <th>Average pop. using improved drinking water</th>\n",
       "      <th>Average Education: Primary gross enrol</th>\n",
       "      <th>Health expenditure per capita</th>\n",
       "    </tr>\n",
       "  </thead>\n",
       "  <tbody>\n",
       "    <tr>\n",
       "      <th>5</th>\n",
       "      <td>4714.1</td>\n",
       "      <td>6.8</td>\n",
       "      <td>175</td>\n",
       "      <td>21011.0</td>\n",
       "      <td>8790.0</td>\n",
       "      <td>3.5</td>\n",
       "      <td>44.1</td>\n",
       "      <td>65.4</td>\n",
       "      <td>60.8</td>\n",
       "      <td>25</td>\n",
       "      <td>Angola</td>\n",
       "      <td>MiddleAfrica</td>\n",
       "      <td>68.45</td>\n",
       "      <td>60.20</td>\n",
       "      <td>51.80</td>\n",
       "      <td>128.65</td>\n",
       "      <td>155.5653</td>\n",
       "    </tr>\n",
       "    <tr>\n",
       "      <th>21</th>\n",
       "      <td>779.1</td>\n",
       "      <td>23.2</td>\n",
       "      <td>152</td>\n",
       "      <td>410.0</td>\n",
       "      <td>2630.0</td>\n",
       "      <td>2.8</td>\n",
       "      <td>44.0</td>\n",
       "      <td>67.7</td>\n",
       "      <td>85.6</td>\n",
       "      <td>17</td>\n",
       "      <td>Benin</td>\n",
       "      <td>WesternAfrica</td>\n",
       "      <td>71.70</td>\n",
       "      <td>59.95</td>\n",
       "      <td>78.65</td>\n",
       "      <td>128.95</td>\n",
       "      <td>35.8386</td>\n",
       "    </tr>\n",
       "    <tr>\n",
       "      <th>32</th>\n",
       "      <td>611.1</td>\n",
       "      <td>34.5</td>\n",
       "      <td>131</td>\n",
       "      <td>2019.0</td>\n",
       "      <td>3699.0</td>\n",
       "      <td>3.0</td>\n",
       "      <td>29.9</td>\n",
       "      <td>64.8</td>\n",
       "      <td>80.6</td>\n",
       "      <td>9</td>\n",
       "      <td>Burkina Faso</td>\n",
       "      <td>WesternAfrica</td>\n",
       "      <td>83.50</td>\n",
       "      <td>58.65</td>\n",
       "      <td>86.65</td>\n",
       "      <td>88.00</td>\n",
       "      <td>30.555</td>\n",
       "    </tr>\n",
       "    <tr>\n",
       "      <th>33</th>\n",
       "      <td>244.6</td>\n",
       "      <td>36.3</td>\n",
       "      <td>109</td>\n",
       "      <td>123.0</td>\n",
       "      <td>625.0</td>\n",
       "      <td>3.0</td>\n",
       "      <td>12.1</td>\n",
       "      <td>77.8</td>\n",
       "      <td>46.2</td>\n",
       "      <td>6</td>\n",
       "      <td>Burundi</td>\n",
       "      <td>EasternAfrica</td>\n",
       "      <td>83.65</td>\n",
       "      <td>56.10</td>\n",
       "      <td>82.45</td>\n",
       "      <td>123.80</td>\n",
       "      <td>18.345</td>\n",
       "    </tr>\n",
       "    <tr>\n",
       "      <th>35</th>\n",
       "      <td>1158.7</td>\n",
       "      <td>28.2</td>\n",
       "      <td>175</td>\n",
       "      <td>13204.0</td>\n",
       "      <td>15313.0</td>\n",
       "      <td>1.6</td>\n",
       "      <td>20.7</td>\n",
       "      <td>29.9</td>\n",
       "      <td>133.0</td>\n",
       "      <td>17</td>\n",
       "      <td>Cambodia</td>\n",
       "      <td>South-easternAsia</td>\n",
       "      <td>81.30</td>\n",
       "      <td>67.55</td>\n",
       "      <td>84.55</td>\n",
       "      <td>116.65</td>\n",
       "      <td>66.0459</td>\n",
       "    </tr>\n",
       "  </tbody>\n",
       "</table>\n",
       "</div>"
      ],
      "text/plain": [
       "    GDP per capita (current US$)  Economy: Agriculture (% of GVA)  \\\n",
       "5                         4714.1                              6.8   \n",
       "21                         779.1                             23.2   \n",
       "32                         611.1                             34.5   \n",
       "33                         244.6                             36.3   \n",
       "35                        1158.7                             28.2   \n",
       "\n",
       "    Agricultural production index (2004-2006=100)  \\\n",
       "5                                             175   \n",
       "21                                            152   \n",
       "32                                            131   \n",
       "33                                            109   \n",
       "35                                            175   \n",
       "\n",
       "    International trade: Exports (million US$)  \\\n",
       "5                                      21011.0   \n",
       "21                                       410.0   \n",
       "32                                      2019.0   \n",
       "33                                       123.0   \n",
       "35                                     13204.0   \n",
       "\n",
       "    International trade: Imports (million US$)  \\\n",
       "5                                       8790.0   \n",
       "21                                      2630.0   \n",
       "32                                      3699.0   \n",
       "33                                       625.0   \n",
       "35                                     15313.0   \n",
       "\n",
       "    Population growth rate (average annual %)  \\\n",
       "5                                         3.5   \n",
       "21                                        2.8   \n",
       "32                                        3.0   \n",
       "33                                        3.0   \n",
       "35                                        1.6   \n",
       "\n",
       "    Urban population (% of total population)  \\\n",
       "5                                       44.1   \n",
       "21                                      44.0   \n",
       "32                                      29.9   \n",
       "33                                      12.1   \n",
       "35                                      20.7   \n",
       "\n",
       "    Infant mortality rate (per 1000 live births  \\\n",
       "5                                          65.4   \n",
       "21                                         67.7   \n",
       "32                                         64.8   \n",
       "33                                         77.8   \n",
       "35                                         29.9   \n",
       "\n",
       "    Mobile-cellular subscriptions (per 100 inhabitants)  \\\n",
       "5                                                60.8     \n",
       "21                                               85.6     \n",
       "32                                               80.6     \n",
       "33                                               46.2     \n",
       "35                                              133.0     \n",
       "\n",
       "    Energy supply per capita (Gigajoules)       country             Region  \\\n",
       "5                                      25        Angola       MiddleAfrica   \n",
       "21                                     17         Benin      WesternAfrica   \n",
       "32                                      9  Burkina Faso      WesternAfrica   \n",
       "33                                      6       Burundi      EasternAfrica   \n",
       "35                                     17      Cambodia  South-easternAsia   \n",
       "\n",
       "    Average labour force participation  Average life expectancy  \\\n",
       "5                                68.45                    60.20   \n",
       "21                               71.70                    59.95   \n",
       "32                               83.50                    58.65   \n",
       "33                               83.65                    56.10   \n",
       "35                               81.30                    67.55   \n",
       "\n",
       "    Average pop. using improved drinking water  \\\n",
       "5                                        51.80   \n",
       "21                                       78.65   \n",
       "32                                       86.65   \n",
       "33                                       82.45   \n",
       "35                                       84.55   \n",
       "\n",
       "    Average Education: Primary gross enrol  Health expenditure per capita  \n",
       "5                                   128.65                       155.5653  \n",
       "21                                  128.95                        35.8386  \n",
       "32                                   88.00                         30.555  \n",
       "33                                  123.80                         18.345  \n",
       "35                                  116.65                        66.0459  "
      ]
     },
     "execution_count": 65,
     "metadata": {},
     "output_type": "execute_result"
    }
   ],
   "source": [
    "df.head()"
   ]
  },
  {
   "cell_type": "code",
   "execution_count": 66,
   "metadata": {},
   "outputs": [
    {
     "data": {
      "text/plain": [
       "<AxesSubplot:xlabel='GDP per capita (current US$)', ylabel='country'>"
      ]
     },
     "execution_count": 66,
     "metadata": {},
     "output_type": "execute_result"
    },
    {
     "data": {
      "image/png": "[encoded data removed]",
      "text/plain": [
       "<Figure size 432x288 with 1 Axes>"
      ]
     },
     "metadata": {},
     "output_type": "display_data"
    }
   ],
   "source": [
    "COL = \"GDP per capita (current US$)\"\n",
    "pt = df[['country',COL]].sort_values(COL, ascending = True).head(10)\n",
    "sb.barplot(x=\"GDP per capita (current US$)\", y=\"country\", data=pt)"
   ]
  }
 ],
 "metadata": {
  "interpreter": {
   "hash": "cd78fef2128015050713e82ca51c6520b11aee7c9ee8df750520bbbc7384cbaa"
  },
  "kernelspec": {
   "display_name": "Python 3.9.7 ('base')",
   "language": "python",
   "name": "python3"
  },
  "language_info": {
   "codemirror_mode": {
    "name": "ipython",
    "version": 3
   },
   "file_extension": ".py",
   "mimetype": "text/x-python",
   "name": "python",
   "nbconvert_exporter": "python",
   "pygments_lexer": "ipython3",
   "version": "3.9.7"
  },
  "orig_nbformat": 4
 },
 "nbformat": 4,
 "nbformat_minor": 2
}
