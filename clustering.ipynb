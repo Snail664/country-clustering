{
 "cells": [
  {
   "cell_type": "markdown",
   "metadata": {},
   "source": [
    "# Clustering"
   ]
  },
  {
   "cell_type": "code",
   "execution_count": 19,
   "metadata": {},
   "outputs": [],
   "source": [
    "# Import KMeans from sklearn.cluster\n",
    "from sklearn.cluster import KMeans\n",
    "import pandas as pd\n",
    "import numpy as np\n",
    "import matplotlib.pyplot as plt\n",
    "\n",
    "# import final data from eda\n",
    "%store -r final_data"
   ]
  },
  {
   "cell_type": "code",
   "execution_count": 20,
   "metadata": {},
   "outputs": [
    {
     "data": {
      "text/plain": [
       "(191, 5)"
      ]
     },
     "execution_count": 20,
     "metadata": {},
     "output_type": "execute_result"
    }
   ],
   "source": [
    "COLUMNS = [\n",
    "    \"GDP per capita (current US$)\",\n",
    "    \"Economy: Agriculture (% of GVA)\",\n",
    "    \"Population growth rate (average annual %)\",\n",
    "    \"Urban population (% of total population)\",\n",
    "    \"Infant mortality rate (per 1000 live births\"\n",
    "]\n",
    "cluster_data = final_data[COLUMNS]\n",
    "cluster_data.shape"
   ]
  },
  {
   "cell_type": "code",
   "execution_count": 21,
   "metadata": {},
   "outputs": [
    {
     "data": {
      "text/plain": [
       "KMeans(n_clusters=3)"
      ]
     },
     "execution_count": 21,
     "metadata": {},
     "output_type": "execute_result"
    }
   ],
   "source": [
    "# Guess the Number of Clusters\n",
    "num_clust = 3\n",
    "\n",
    "# # Create Clustering Model using KMeans\n",
    "kmeans = KMeans(n_clusters = num_clust)\n",
    "\n",
    "# # Fit the Clustering Model on the Final Data\n",
    "kmeans.fit(cluster_data)"
   ]
  },
  {
   "cell_type": "code",
   "execution_count": 22,
   "metadata": {},
   "outputs": [
    {
     "name": "stdout",
     "output_type": "stream",
     "text": [
      "Features insert array of features\n",
      "\n",
      "Cluster 0:\t6113.47\t14.0\t1.46\t52.11\t30.15\t\n",
      "Cluster 1:\t48184.13\t1.51\t1.13\t85.07\t4.87\t\n",
      "Cluster 2:\t167681.2\t4.32\t0.7\t57.15\t18.0\t\n"
     ]
    }
   ],
   "source": [
    "# Print the Cluster Centers\n",
    "print(\"Features\", \"insert array of features\")\n",
    "print()\n",
    "\n",
    "for i, center in enumerate(kmeans.cluster_centers_):\n",
    "    print(\"Cluster\", i, end=\":\\t\")\n",
    "    for coord in center:\n",
    "        print(round(coord, 2), end=\"\\t\")\n",
    "    print()"
   ]
  },
  {
   "cell_type": "markdown",
   "metadata": {},
   "source": [
    "#### Within Cluster Sum of Squares\n",
    "\n",
    "WithinSS = 0 : Every data point is a cluster on its own    \n",
    "WithinSS = Variance : Whole dataset is a single cluster"
   ]
  },
  {
   "cell_type": "code",
   "execution_count": 23,
   "metadata": {},
   "outputs": [
    {
     "name": "stdout",
     "output_type": "stream",
     "text": [
      "Within Cluster Sum of Squares : 13508419669.078186\n"
     ]
    }
   ],
   "source": [
    "# Print the Within Cluster Sum of Squares\n",
    "print(\"Within Cluster Sum of Squares :\", kmeans.inertia_)"
   ]
  },
  {
   "cell_type": "code",
   "execution_count": 24,
   "metadata": {},
   "outputs": [
    {
     "data": {
      "image/png": "[encoded data removed]",
      "text/plain": [
       "<Figure size 1152x288 with 1 Axes>"
      ]
     },
     "metadata": {
      "needs_background": "light"
     },
     "output_type": "display_data"
    }
   ],
   "source": [
    "# Vary the Number of Clusters\n",
    "min_clust = 1\n",
    "max_clust = 40\n",
    "\n",
    "# Compute Within Cluster Sum of Squares\n",
    "within_ss = []\n",
    "for num_clust in range(min_clust, max_clust+1):\n",
    "    kmeans = KMeans(n_clusters = num_clust)\n",
    "    kmeans.fit(cluster_data)\n",
    "    within_ss.append(kmeans.inertia_)\n",
    "\n",
    "# Plot Within SS vs Number of Clusters\n",
    "f = plt.figure(figsize=(16,4))\n",
    "plt.plot(range(min_clust, max_clust+1), within_ss)\n",
    "plt.xlabel('Number of Clusters')\n",
    "plt.ylabel('Within Cluster Sum of Squares')\n",
    "plt.xticks(np.arange(min_clust, max_clust+1, 1.0))\n",
    "plt.grid(which='major', axis='y')\n",
    "plt.show()"
   ]
  }
 ],
 "metadata": {
  "interpreter": {
   "hash": "cd78fef2128015050713e82ca51c6520b11aee7c9ee8df750520bbbc7384cbaa"
  },
  "kernelspec": {
   "display_name": "Python 3.9.7 ('base')",
   "language": "python",
   "name": "python3"
  },
  "language_info": {
   "codemirror_mode": {
    "name": "ipython",
    "version": 3
   },
   "file_extension": ".py",
   "mimetype": "text/x-python",
   "name": "python",
   "nbconvert_exporter": "python",
   "pygments_lexer": "ipython3",
   "version": "3.9.7"
  },
  "orig_nbformat": 4
 },
 "nbformat": 4,
 "nbformat_minor": 2
}
