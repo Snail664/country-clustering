{
 "cells": [
  {
   "cell_type": "markdown",
   "id": "1db1073d",
   "metadata": {},
   "source": [
    "We will be using Principal Component Analysis (PCA) to further reduce the dimensions (number of variables) of the dataset. We are aware that there is a shortcut to do this using the scikit-learn library, but we will be showing the complete method so that we can flex on what we researched and hopefully we can get some more marks :)\n",
    "\n",
    "First, we are going to import all the necessary libraries."
   ]
  },
  {
   "cell_type": "code",
   "execution_count": 13,
   "id": "832ffbf6",
   "metadata": {},
   "outputs": [],
   "source": [
    "import pandas as pd\n",
    "import numpy as np\n",
    "import matplotlib.pyplot as plt\n",
    "import seaborn as sb"
   ]
  },
  {
   "cell_type": "code",
   "execution_count": 15,
   "id": "7b0aed05",
   "metadata": {},
   "outputs": [],
   "source": [
    "# read in final_data from data_exploration.ipynb\n",
    "%store -r final_data"
   ]
  },
  {
   "cell_type": "code",
   "execution_count": 17,
   "id": "82fb161e",
   "metadata": {},
   "outputs": [
    {
     "name": "stdout",
     "output_type": "stream",
     "text": [
      "Dimensions of final_data: (191, 17)\n",
      "Column titles in final_data:\n",
      "GDP per capita (current US$)\n",
      "Economy: Agriculture (% of GVA)\n",
      "Agricultural production index (2004-2006=100)\n",
      "International trade: Exports (million US$)\n",
      "International trade: Imports (million US$)\n",
      "Population growth rate (average annual %)\n",
      "Urban population (% of total population)\n",
      "Infant mortality rate (per 1000 live births\n",
      "Mobile-cellular subscriptions (per 100 inhabitants)\n",
      "Energy supply per capita (Gigajoules)\n",
      "country\n",
      "Region\n",
      "Average labour force participation\n",
      "Average life expectancy\n",
      "Average pop. using improved drinking water\n",
      "Average Education: Primary gross enrol\n",
      "Health expenditure per capita\n",
      "\n",
      "\n",
      "There are a total of 17 columns.\n"
     ]
    }
   ],
   "source": [
    "#find the dimensions of final_data\n",
    "print(\"Dimensions of final_data:\", final_data.shape)\n",
    "print(\"Column titles in final_data:\")\n",
    "n=0\n",
    "for col in final_data:\n",
    "    print(col)\n",
    "    n+=1\n",
    "print(\"\\n\")\n",
    "print(\"There are a total of\", n, \"columns.\")"
   ]
  },
  {
   "cell_type": "markdown",
   "id": "77ec465e",
   "metadata": {},
   "source": [
    "As can be seen, final_data has 191 entries (countries) and 17 columns. \n",
    "\n",
    "These 17 columns are made of country, region, and 15 metrics. We will be trying to reduce this 15 dimensions into a smaller number of dimensions (principal components, PC) without losing too much information (hopefully).\n",
    "\n",
    "Let's begin!!!\n",
    "\n",
    "Step 1: Data pre-processing. For this we will be doing a standard scaling of the data. This ensures that the data has a mean of 0 and a sd of 1. This is a common requirement for many machine learning estimators: they might behave badly if the individual features do not more or less look like standard normally distributed data (taken from scikit_learn)."
   ]
  },
  {
   "cell_type": "code",
   "execution_count": 18,
   "id": "23cc8769",
   "metadata": {},
   "outputs": [
    {
     "data": {
      "text/html": [
       "<div>\n",
       "<style scoped>\n",
       "    .dataframe tbody tr th:only-of-type {\n",
       "        vertical-align: middle;\n",
       "    }\n",
       "\n",
       "    .dataframe tbody tr th {\n",
       "        vertical-align: top;\n",
       "    }\n",
       "\n",
       "    .dataframe thead th {\n",
       "        text-align: right;\n",
       "    }\n",
       "</style>\n",
       "<table border=\"1\" class=\"dataframe\">\n",
       "  <thead>\n",
       "    <tr style=\"text-align: right;\">\n",
       "      <th></th>\n",
       "      <th>GDP per capita (current US$)</th>\n",
       "      <th>Economy: Agriculture (% of GVA)</th>\n",
       "      <th>Agricultural production index (2004-2006=100)</th>\n",
       "      <th>International trade: Exports (million US$)</th>\n",
       "      <th>International trade: Imports (million US$)</th>\n",
       "      <th>Population growth rate (average annual %)</th>\n",
       "      <th>Urban population (% of total population)</th>\n",
       "      <th>Infant mortality rate (per 1000 live births</th>\n",
       "      <th>Mobile-cellular subscriptions (per 100 inhabitants)</th>\n",
       "      <th>Energy supply per capita (Gigajoules)</th>\n",
       "      <th>Average labour force participation</th>\n",
       "      <th>Average life expectancy</th>\n",
       "      <th>Average pop. using improved drinking water</th>\n",
       "      <th>Average Education: Primary gross enrol</th>\n",
       "      <th>Health expenditure per capita</th>\n",
       "    </tr>\n",
       "  </thead>\n",
       "  <tbody>\n",
       "    <tr>\n",
       "      <th>0</th>\n",
       "      <td>623.2</td>\n",
       "      <td>23.3</td>\n",
       "      <td>125</td>\n",
       "      <td>1458.0</td>\n",
       "      <td>3568.0</td>\n",
       "      <td>3.2</td>\n",
       "      <td>26.7</td>\n",
       "      <td>68.6</td>\n",
       "      <td>61.6</td>\n",
       "      <td>5</td>\n",
       "      <td>51.450</td>\n",
       "      <td>62.250</td>\n",
       "      <td>62.60</td>\n",
       "      <td>111.35</td>\n",
       "      <td>51.1024</td>\n",
       "    </tr>\n",
       "    <tr>\n",
       "      <th>1</th>\n",
       "      <td>3984.2</td>\n",
       "      <td>22.4</td>\n",
       "      <td>134</td>\n",
       "      <td>1962.0</td>\n",
       "      <td>4669.0</td>\n",
       "      <td>-0.1</td>\n",
       "      <td>57.4</td>\n",
       "      <td>14.6</td>\n",
       "      <td>106.4</td>\n",
       "      <td>36</td>\n",
       "      <td>50.600</td>\n",
       "      <td>77.750</td>\n",
       "      <td>95.05</td>\n",
       "      <td>113.60</td>\n",
       "      <td>235.0678</td>\n",
       "    </tr>\n",
       "    <tr>\n",
       "      <th>2</th>\n",
       "      <td>4154.1</td>\n",
       "      <td>12.2</td>\n",
       "      <td>160</td>\n",
       "      <td>29992.0</td>\n",
       "      <td>47091.0</td>\n",
       "      <td>2.0</td>\n",
       "      <td>70.7</td>\n",
       "      <td>27.7</td>\n",
       "      <td>113.0</td>\n",
       "      <td>55</td>\n",
       "      <td>43.850</td>\n",
       "      <td>75.300</td>\n",
       "      <td>83.05</td>\n",
       "      <td>116.10</td>\n",
       "      <td>299.0952</td>\n",
       "    </tr>\n",
       "    <tr>\n",
       "      <th>4</th>\n",
       "      <td>39896.4</td>\n",
       "      <td>0.5</td>\n",
       "      <td>115</td>\n",
       "      <td>100.0</td>\n",
       "      <td>1355.0</td>\n",
       "      <td>-1.6</td>\n",
       "      <td>85.1</td>\n",
       "      <td>18.0</td>\n",
       "      <td>88.1</td>\n",
       "      <td>119</td>\n",
       "      <td>63.625</td>\n",
       "      <td>72.725</td>\n",
       "      <td>100.00</td>\n",
       "      <td>102.80</td>\n",
       "      <td>3231.6084</td>\n",
       "    </tr>\n",
       "    <tr>\n",
       "      <th>5</th>\n",
       "      <td>4714.1</td>\n",
       "      <td>6.8</td>\n",
       "      <td>175</td>\n",
       "      <td>21011.0</td>\n",
       "      <td>8790.0</td>\n",
       "      <td>3.5</td>\n",
       "      <td>44.1</td>\n",
       "      <td>65.4</td>\n",
       "      <td>60.8</td>\n",
       "      <td>25</td>\n",
       "      <td>68.450</td>\n",
       "      <td>60.200</td>\n",
       "      <td>51.80</td>\n",
       "      <td>128.65</td>\n",
       "      <td>155.5653</td>\n",
       "    </tr>\n",
       "  </tbody>\n",
       "</table>\n",
       "</div>"
      ],
      "text/plain": [
       "   GDP per capita (current US$)  Economy: Agriculture (% of GVA)  \\\n",
       "0                         623.2                             23.3   \n",
       "1                        3984.2                             22.4   \n",
       "2                        4154.1                             12.2   \n",
       "4                       39896.4                              0.5   \n",
       "5                        4714.1                              6.8   \n",
       "\n",
       "   Agricultural production index (2004-2006=100)  \\\n",
       "0                                            125   \n",
       "1                                            134   \n",
       "2                                            160   \n",
       "4                                            115   \n",
       "5                                            175   \n",
       "\n",
       "   International trade: Exports (million US$)  \\\n",
       "0                                      1458.0   \n",
       "1                                      1962.0   \n",
       "2                                     29992.0   \n",
       "4                                       100.0   \n",
       "5                                     21011.0   \n",
       "\n",
       "   International trade: Imports (million US$)  \\\n",
       "0                                      3568.0   \n",
       "1                                      4669.0   \n",
       "2                                     47091.0   \n",
       "4                                      1355.0   \n",
       "5                                      8790.0   \n",
       "\n",
       "   Population growth rate (average annual %)  \\\n",
       "0                                        3.2   \n",
       "1                                       -0.1   \n",
       "2                                        2.0   \n",
       "4                                       -1.6   \n",
       "5                                        3.5   \n",
       "\n",
       "   Urban population (% of total population)  \\\n",
       "0                                      26.7   \n",
       "1                                      57.4   \n",
       "2                                      70.7   \n",
       "4                                      85.1   \n",
       "5                                      44.1   \n",
       "\n",
       "   Infant mortality rate (per 1000 live births  \\\n",
       "0                                         68.6   \n",
       "1                                         14.6   \n",
       "2                                         27.7   \n",
       "4                                         18.0   \n",
       "5                                         65.4   \n",
       "\n",
       "   Mobile-cellular subscriptions (per 100 inhabitants)  \\\n",
       "0                                               61.6     \n",
       "1                                              106.4     \n",
       "2                                              113.0     \n",
       "4                                               88.1     \n",
       "5                                               60.8     \n",
       "\n",
       "   Energy supply per capita (Gigajoules)  Average labour force participation  \\\n",
       "0                                      5                              51.450   \n",
       "1                                     36                              50.600   \n",
       "2                                     55                              43.850   \n",
       "4                                    119                              63.625   \n",
       "5                                     25                              68.450   \n",
       "\n",
       "   Average life expectancy  Average pop. using improved drinking water  \\\n",
       "0                   62.250                                       62.60   \n",
       "1                   77.750                                       95.05   \n",
       "2                   75.300                                       83.05   \n",
       "4                   72.725                                      100.00   \n",
       "5                   60.200                                       51.80   \n",
       "\n",
       "   Average Education: Primary gross enrol  Health expenditure per capita  \n",
       "0                                  111.35                        51.1024  \n",
       "1                                  113.60                       235.0678  \n",
       "2                                  116.10                       299.0952  \n",
       "4                                  102.80                      3231.6084  \n",
       "5                                  128.65                       155.5653  "
      ]
     },
     "execution_count": 18,
     "metadata": {},
     "output_type": "execute_result"
    }
   ],
   "source": [
    "#dropping the columns country and region\n",
    "final_dropped = final_data.drop(labels=['country','Region'],axis=1)\n",
    "final_dropped.head()"
   ]
  },
  {
   "cell_type": "code",
   "execution_count": 22,
   "id": "b0bfbd3c",
   "metadata": {},
   "outputs": [
    {
     "data": {
      "text/plain": [
       "array([[-0.57992492,  0.94172334,  0.27654231, ..., -2.09675955,\n",
       "         0.55517885, -0.55373925],\n",
       "       [-0.4362874 ,  0.86667536,  0.64193527, ...,  0.43398198,\n",
       "         0.71267679, -0.45498555],\n",
       "       [-0.42902646,  0.0161316 ,  1.69751491, ..., -0.50188546,\n",
       "         0.8876745 , -0.42061526],\n",
       "       ...,\n",
       "       [-0.55927462,  0.22459821,  0.7231337 , ..., -2.35802255,\n",
       "        -0.42830826, -0.54791169],\n",
       "       [-0.55052645, -0.31741497,  2.46890004, ..., -1.64052417,\n",
       "         0.01618591, -0.54598101],\n",
       "       [-0.56850572,  0.08284092, -0.77903734, ..., -0.57207551,\n",
       "        -0.24281069, -0.552493  ]])"
      ]
     },
     "execution_count": 22,
     "metadata": {},
     "output_type": "execute_result"
    }
   ],
   "source": [
    "#importing necessary libraries for standard scaling\n",
    "from sklearn.preprocessing import StandardScaler\n",
    "scaler = StandardScaler()\n",
    "\n",
    "#computing the mean and sd\n",
    "scaler.fit(final_dropped)\n",
    "\n",
    "#perform standardisation by centering and scaling\n",
    "final_scaled = scaler.transform(final_dropped)\n",
    "\n",
    "#verification\n",
    "final_scaled"
   ]
  },
  {
   "cell_type": "markdown",
   "id": "9873fc2d",
   "metadata": {},
   "source": [
    "Principal components (PC) are like new axes that retains the highest variance when the points are projected onto it.\n",
    "\n",
    "PCA deals with eigen vectors and values. Eigenvectors are simply unit vectors in the direction of the PCs, and an eigenvalue is the sum of squared distances of projected points on the PC. Simply put, the higher the eigenvalue, the more the information is retained and thus the better the PC.\n",
    "\n",
    "To derive the eigen vectors and values, we need the covariance matrix of the variables (against one another).\n",
    "\n",
    "Step 2: Find covariance matrix. This can be done using the numpy covariance library."
   ]
  },
  {
   "cell_type": "code",
   "execution_count": 24,
   "id": "5e476135",
   "metadata": {},
   "outputs": [
    {
     "name": "stdout",
     "output_type": "stream",
     "text": [
      "<class 'numpy.ndarray'>\n",
      "numpy covariance matrix:\n",
      " [[ 1.00526316 -0.43020619 -0.1727339   0.22747494  0.24377812 -0.12524221\n",
      "   0.42589456 -0.41825748  0.26500529  0.46388961 -0.07334951  0.49776068\n",
      "   0.35132856 -0.01562194  0.90126474]\n",
      " [-0.43020619  1.00526316  0.30217148 -0.22046177 -0.2184778   0.28735885\n",
      "  -0.5658535   0.69453824 -0.53032884 -0.41891468  0.25557201 -0.64505173\n",
      "  -0.54612248 -0.07033553 -0.4281149 ]\n",
      " [-0.1727339   0.30217148  1.00526316 -0.05315576 -0.05874764  0.33624092\n",
      "  -0.0591598   0.3163706  -0.07743012 -0.0252275   0.26659572 -0.27878253\n",
      "  -0.32541171  0.16402864 -0.2258491 ]\n",
      " [ 0.22747494 -0.22046177 -0.05315576  1.00526316  0.9507489  -0.17201619\n",
      "   0.23887614 -0.25879488  0.11275678  0.19432195 -0.03281438  0.29947743\n",
      "   0.20587295  0.0090612   0.38235807]\n",
      " [ 0.24377812 -0.2184778  -0.05874764  0.9507489   1.00526316 -0.16424594\n",
      "   0.2390983  -0.25223231  0.10625284  0.20099655 -0.04651814  0.29702681\n",
      "   0.20665229  0.00912645  0.4437567 ]\n",
      " [-0.12524221  0.28735885  0.33624092 -0.17201619 -0.16424594  1.00526316\n",
      "  -0.16378778  0.52626579 -0.10952633  0.01787719  0.23715    -0.46287225\n",
      "  -0.49677686  0.04766491 -0.22348966]\n",
      " [ 0.42589456 -0.5658535  -0.0591598   0.23887614  0.2390983  -0.16378778\n",
      "   1.00526316 -0.58691608  0.47259042  0.44817176 -0.27660851  0.60164398\n",
      "   0.43019781  0.00921158  0.42598931]\n",
      " [-0.41825748  0.69453824  0.3163706  -0.25879488 -0.25223231  0.52626579\n",
      "  -0.58691608  1.00526316 -0.55704158 -0.42539791  0.29861483 -0.9323113\n",
      "  -0.7913291  -0.06013675 -0.44570077]\n",
      " [ 0.26500529 -0.53032884 -0.07743012  0.11275678  0.10625284 -0.10952633\n",
      "   0.47259042 -0.55704158  1.00526316  0.42939979 -0.16607797  0.49091373\n",
      "   0.49927484  0.15761564  0.23849204]\n",
      " [ 0.46388961 -0.41891468 -0.0252275   0.19432195  0.20099655  0.01787719\n",
      "   0.44817176 -0.42539791  0.42939979  1.00526316 -0.02097898  0.42837663\n",
      "   0.3541957  -0.01130332  0.41787911]\n",
      " [-0.07334951  0.25557201  0.26659572 -0.03281438 -0.04651814  0.23715\n",
      "  -0.27660851  0.29861483 -0.16607797 -0.02097898  1.00526316 -0.30836936\n",
      "  -0.2518151   0.0659537  -0.07647869]\n",
      " [ 0.49776068 -0.64505173 -0.27878253  0.29947743  0.29702681 -0.46287225\n",
      "   0.60164398 -0.9323113   0.49091373  0.42837663 -0.30836936  1.00526316\n",
      "   0.74064482  0.06456876  0.54901827]\n",
      " [ 0.35132856 -0.54612248 -0.32541171  0.20587295  0.20665229 -0.49677686\n",
      "   0.43019781 -0.7913291   0.49927484  0.3541957  -0.2518151   0.74064482\n",
      "   1.00526316  0.07543246  0.37315035]\n",
      " [-0.01562194 -0.07033553  0.16402864  0.0090612   0.00912645  0.04766491\n",
      "   0.00921158 -0.06013675  0.15761564 -0.01130332  0.0659537   0.06456876\n",
      "   0.07543246  1.00526316 -0.01720339]\n",
      " [ 0.90126474 -0.4281149  -0.2258491   0.38235807  0.4437567  -0.22348966\n",
      "   0.42598931 -0.44570077  0.23849204  0.41787911 -0.07647869  0.54901827\n",
      "   0.37315035 -0.01720339  1.00526316]]\n"
     ]
    }
   ],
   "source": [
    "#first transpose the dataset, then apply the covariance method\n",
    "npcovmat = np.cov(final_scaled.T)\n",
    "print(type(npcovmat))\n",
    "print(\"numpy covariance matrix:\\n\", npcovmat)"
   ]
  },
  {
   "cell_type": "markdown",
   "id": "edf9c7f6",
   "metadata": {},
   "source": [
    "Step 3: Now that we have the covariance matrix, we can perform an eigendecomposition on the covariance matrix to get our eigenvectors and values. This can be done using the numpy.linalg.eig method."
   ]
  },
  {
   "cell_type": "code",
   "execution_count": 26,
   "id": "673e6e94",
   "metadata": {},
   "outputs": [
    {
     "name": "stdout",
     "output_type": "stream",
     "text": [
      "Eigenvectors:\n",
      " [[-2.73434352e-01 -1.96314383e-01 -2.06617817e-01 -4.65051157e-01\n",
      "  -2.47361018e-01 -2.24832690e-01  1.07245495e-01 -5.96238236e-01\n",
      "  -3.21788699e-01  4.08833406e-02  7.57747446e-02  9.26545689e-03\n",
      "  -1.89294115e-01  4.25490418e-02  1.73843840e-02]\n",
      " [ 3.21434261e-01 -1.21199439e-01  8.89658377e-02 -4.07417832e-02\n",
      "  -7.56498604e-02  2.38600480e-02  2.32132291e-01 -5.49400315e-02\n",
      "   1.41462005e-02  6.85412729e-02 -2.04042514e-01  4.56897518e-01\n",
      "  -2.02559817e-01 -6.41907522e-01 -3.17580590e-01]\n",
      " [ 1.46627878e-01 -2.07423649e-01 -4.01210803e-01  3.12908254e-01\n",
      "   1.02058100e-01  6.45869948e-02  7.17358928e-01  3.19181572e-02\n",
      "   2.69978943e-02  1.58613784e-02  8.04100057e-02  6.21445646e-02\n",
      "  -1.60185645e-01  3.24858078e-01  6.23191674e-02]\n",
      " [-1.86346197e-01 -5.40029450e-01  2.79966861e-01  2.60472273e-01\n",
      "   1.26517290e-01  2.87508915e-02 -9.60092630e-02 -4.05489356e-01\n",
      "   5.05347831e-01 -2.85091750e-01  3.44519750e-04  2.32062346e-03\n",
      "  -1.24271046e-02  7.47582816e-03 -8.59322718e-03]\n",
      " [-1.89824829e-01 -5.51273791e-01  2.75720093e-01  2.29420919e-01\n",
      "   1.13959606e-01 -7.53360831e-03 -9.20092651e-02  2.80704614e-01\n",
      "  -5.80506173e-01  3.03305499e-01  2.22660289e-02  2.05628750e-02\n",
      "  -3.26599343e-02  4.48229423e-03 -1.08105788e-02]\n",
      " [ 1.95910881e-01 -1.95700641e-01 -4.57601561e-01 -6.03805961e-02\n",
      "   2.98585601e-01 -1.90684032e-01 -3.71757578e-01  2.67097131e-02\n",
      "   5.59400569e-02  6.06584590e-02  3.89729116e-03 -6.40782501e-02\n",
      "   5.63878337e-03  1.70688561e-01 -6.36983503e-01]\n",
      " [-2.92678813e-01  1.63994403e-02 -2.06927085e-01  3.92685442e-02\n",
      "   3.31923758e-01 -1.12395362e-01  2.54136451e-01 -2.85642877e-03\n",
      "  -5.53021964e-03  5.51353581e-03  1.79098046e-01 -4.45517608e-01\n",
      "   3.12921432e-01 -5.94450201e-01 -1.98958398e-02]\n",
      " [ 3.70909163e-01 -1.88699676e-01 -4.20571646e-02 -1.24145283e-01\n",
      "   5.19303000e-02 -1.54666532e-01 -1.00633143e-01  1.76479430e-01\n",
      "  -2.47668730e-01 -6.94583789e-01  3.51774031e-01  4.46492431e-03\n",
      "  -7.93904285e-02 -1.18081090e-01  2.32271674e-01]\n",
      " [-2.51900134e-01  1.53950556e-01 -3.02054206e-01  2.54211380e-01\n",
      "   1.68031687e-01  1.13015798e-01 -2.85192707e-01  1.64975545e-02\n",
      "  -2.09112845e-02 -5.07403967e-02 -1.50666945e-01 -4.15680527e-02\n",
      "  -7.20937521e-01 -2.00611567e-01  2.16644642e-01]\n",
      " [-2.37030885e-01 -1.04230636e-01 -3.86553383e-01 -1.12801079e-01\n",
      "   1.95320007e-01  2.49468993e-01 -1.66556552e-01  3.59785397e-02\n",
      "   9.30951097e-03 -1.95573283e-02 -3.19671886e-02  6.23686985e-01\n",
      "   4.05242846e-01 -4.23100497e-02  2.91369339e-01]\n",
      " [ 1.37877008e-01 -2.57717764e-01 -2.52035349e-01 -5.41693974e-03\n",
      "  -4.69665753e-01  6.82136100e-01 -1.19552926e-01 -1.67844681e-03\n",
      "  -3.35246695e-02 -1.93047157e-02 -2.28715269e-02 -3.49136156e-01\n",
      "   9.10587902e-02 -1.25294043e-01 -5.40646670e-02]\n",
      " [-3.72253527e-01  1.13531942e-01  2.39375487e-02  6.34033483e-02\n",
      "  -6.69038691e-02  5.38088848e-02  1.75519938e-01  1.13213070e-01\n",
      "  -2.51170693e-01 -5.70809137e-01 -4.95466943e-01  1.78654982e-02\n",
      "   1.01373113e-01  1.09313281e-01 -3.68790577e-01]\n",
      " [-3.23308691e-01  2.05236470e-01  8.11953052e-02  1.31630132e-01\n",
      "  -1.49664025e-01  2.10622400e-01  1.64187030e-02  4.92701539e-02\n",
      "   8.85083876e-03 -6.21342475e-02  7.20843160e-01  2.50083543e-01\n",
      "  -1.20960835e-01  7.43709267e-03 -3.98985713e-01]\n",
      " [-1.77252730e-02  6.75912681e-03 -2.52436814e-01  5.38370114e-01\n",
      "  -5.56488254e-01 -4.91237285e-01 -1.60107430e-01 -1.19589634e-02\n",
      "   3.18134359e-03  9.52751756e-03 -6.76225734e-03  9.14563551e-02\n",
      "   2.06980923e-01 -1.17601366e-01  6.41925144e-02]\n",
      " [-2.93218738e-01 -2.79278531e-01 -7.04422859e-02 -3.93078356e-01\n",
      "  -2.61020606e-01 -2.04995091e-01  9.65895879e-02  5.90273097e-01\n",
      "   4.16937026e-01  2.90995884e-02 -2.08156583e-02 -2.05454536e-02\n",
      "  -1.78853973e-01 -2.27655223e-02  2.45204744e-02]]\n",
      "\n",
      "\n",
      "Eigenvalues:\n",
      " [5.78261752 1.87471031 1.54383206 1.25161909 0.96130862 0.81254929\n",
      " 0.70181097 0.09461222 0.0358022  0.0549049  0.2523566  0.50707675\n",
      " 0.45804483 0.35692115 0.39078085]\n"
     ]
    }
   ],
   "source": [
    "#this handy method returns eigen values and vectors\n",
    "eigvals,eigvecs = np.linalg.eig(npcovmat)\n",
    "print(\"Eigenvectors:\\n\", eigvecs)\n",
    "print(\"\\n\")\n",
    "print(\"Eigenvalues:\\n\", eigvals)"
   ]
  },
  {
   "cell_type": "markdown",
   "id": "ad5e720e",
   "metadata": {},
   "source": [
    "Step 4: Deciding which PCs (eigenvectors) can be dropped and which to keep. The higher the eigenvalue, the more we should keep that eigenvector.\n",
    "\n",
    "As for how many PCs we should keep, this depends on the explained variance, which tells us how much information each PC retains. This can be calculated for each PC by taking the eigenvalue of that PC divided by the sum total of eigenvalues."
   ]
  },
  {
   "cell_type": "code",
   "execution_count": 27,
   "id": "1f840a04",
   "metadata": {},
   "outputs": [
    {
     "name": "stdout",
     "output_type": "stream",
     "text": [
      "Checking for descending order of eigenvalues:\n"
     ]
    },
    {
     "data": {
      "text/plain": [
       "[(5.78261751725064,\n",
       "  array([-0.27343435,  0.32143426,  0.14662788, -0.1863462 , -0.18982483,\n",
       "          0.19591088, -0.29267881,  0.37090916, -0.25190013, -0.23703088,\n",
       "          0.13787701, -0.37225353, -0.32330869, -0.01772527, -0.29321874])),\n",
       " (1.8747103134833092,\n",
       "  array([-0.19631438, -0.12119944, -0.20742365, -0.54002945, -0.55127379,\n",
       "         -0.19570064,  0.01639944, -0.18869968,  0.15395056, -0.10423064,\n",
       "         -0.25771776,  0.11353194,  0.20523647,  0.00675913, -0.27927853])),\n",
       " (1.5438320629602396,\n",
       "  array([-0.20661782,  0.08896584, -0.4012108 ,  0.27996686,  0.27572009,\n",
       "         -0.45760156, -0.20692709, -0.04205716, -0.30205421, -0.38655338,\n",
       "         -0.25203535,  0.02393755,  0.08119531, -0.25243681, -0.07044229])),\n",
       " (1.251619093826127,\n",
       "  array([-0.46505116, -0.04074178,  0.31290825,  0.26047227,  0.22942092,\n",
       "         -0.0603806 ,  0.03926854, -0.12414528,  0.25421138, -0.11280108,\n",
       "         -0.00541694,  0.06340335,  0.13163013,  0.53837011, -0.39307836])),\n",
       " (0.961308620322833,\n",
       "  array([-0.24736102, -0.07564986,  0.1020581 ,  0.12651729,  0.11395961,\n",
       "          0.2985856 ,  0.33192376,  0.0519303 ,  0.16803169,  0.19532001,\n",
       "         -0.46966575, -0.06690387, -0.14966402, -0.55648825, -0.26102061])),\n",
       " (0.812549291192389,\n",
       "  array([-0.22483269,  0.02386005,  0.06458699,  0.02875089, -0.00753361,\n",
       "         -0.19068403, -0.11239536, -0.15466653,  0.1130158 ,  0.24946899,\n",
       "          0.6821361 ,  0.05380888,  0.2106224 , -0.49123729, -0.20499509])),\n",
       " (0.7018109710017619,\n",
       "  array([ 0.10724549,  0.23213229,  0.71735893, -0.09600926, -0.09200927,\n",
       "         -0.37175758,  0.25413645, -0.10063314, -0.28519271, -0.16655655,\n",
       "         -0.11955293,  0.17551994,  0.0164187 , -0.16010743,  0.09658959])),\n",
       " (0.507076751715279,\n",
       "  array([ 0.00926546,  0.45689752,  0.06214456,  0.00232062,  0.02056288,\n",
       "         -0.06407825, -0.44551761,  0.00446492, -0.04156805,  0.62368698,\n",
       "         -0.34913616,  0.0178655 ,  0.25008354,  0.09145636, -0.02054545])),\n",
       " (0.458044826610581,\n",
       "  array([-0.18929411, -0.20255982, -0.16018564, -0.0124271 , -0.03265993,\n",
       "          0.00563878,  0.31292143, -0.07939043, -0.72093752,  0.40524285,\n",
       "          0.09105879,  0.10137311, -0.12096083,  0.20698092, -0.17885397])),\n",
       " (0.39078084859133494,\n",
       "  array([ 0.01738438, -0.31758059,  0.06231917, -0.00859323, -0.01081058,\n",
       "         -0.6369835 , -0.01989584,  0.23227167,  0.21664464,  0.29136934,\n",
       "         -0.05406467, -0.36879058, -0.39898571,  0.06419251,  0.02452047])),\n",
       " (0.35692114696020205,\n",
       "  array([ 0.04254904, -0.64190752,  0.32485808,  0.00747583,  0.00448229,\n",
       "          0.17068856, -0.5944502 , -0.11808109, -0.20061157, -0.04231005,\n",
       "         -0.12529404,  0.10931328,  0.00743709, -0.11760137, -0.02276552])),\n",
       " (0.25235660224624373,\n",
       "  array([ 7.57747446e-02, -2.04042514e-01,  8.04100057e-02,  3.44519750e-04,\n",
       "          2.22660289e-02,  3.89729116e-03,  1.79098046e-01,  3.51774031e-01,\n",
       "         -1.50666945e-01, -3.19671886e-02, -2.28715269e-02, -4.95466943e-01,\n",
       "          7.20843160e-01, -6.76225734e-03, -2.08156583e-02])),\n",
       " (0.09461221884090985,\n",
       "  array([-0.59623824, -0.05494003,  0.03191816, -0.40548936,  0.28070461,\n",
       "          0.02670971, -0.00285643,  0.17647943,  0.01649755,  0.03597854,\n",
       "         -0.00167845,  0.11321307,  0.04927015, -0.01195896,  0.5902731 ])),\n",
       " (0.05490490053469724,\n",
       "  array([ 0.04088334,  0.06854127,  0.01586138, -0.28509175,  0.3033055 ,\n",
       "          0.06065846,  0.00551354, -0.69458379, -0.0507404 , -0.01955733,\n",
       "         -0.01930472, -0.57080914, -0.06213425,  0.00952752,  0.02909959])),\n",
       " (0.035802202884499715,\n",
       "  array([-0.3217887 ,  0.0141462 ,  0.02699789,  0.50534783, -0.58050617,\n",
       "          0.05594006, -0.00553022, -0.24766873, -0.02091128,  0.00930951,\n",
       "         -0.03352467, -0.25117069,  0.00885084,  0.00318134,  0.41693703]))]"
      ]
     },
     "execution_count": 27,
     "metadata": {},
     "output_type": "execute_result"
    }
   ],
   "source": [
    "#creating a list of eigenvalue, eigenvector tuple pairs\n",
    "eigpairs = [(eigvals[i], eigvecs[:,i]) for i in range(len(eigvals))]\n",
    "\n",
    "#it will help to sort the eigenvectors in descending order of eigenvalues\n",
    "eigpairs.sort(key = lambda x: x[0], reverse = True)\n",
    "\n",
    "#printing out the tuple pairs to check if they are sorted by eigenvalues (0th item)\n",
    "print(\"Checking for descending order of eigenvalues:\")\n",
    "eigpairs"
   ]
  },
  {
   "cell_type": "code",
   "execution_count": 28,
   "id": "49e53ffb",
   "metadata": {},
   "outputs": [
    {
     "name": "stdout",
     "output_type": "stream",
     "text": [
      "Explained variance (cumulative):\n",
      "38.34894688578087\n",
      "50.78158072738048\n",
      "61.01990854456881\n",
      "69.32034930641747\n",
      "75.69551991239787\n",
      "81.08415395520953\n",
      "85.7383977419577\n",
      "89.10121040603808\n",
      "92.1388549804189\n",
      "94.73042081749931\n",
      "97.09743714987063\n",
      "98.77100623981082\n",
      "99.39845201920951\n",
      "99.762568288026\n",
      "100.0\n"
     ]
    }
   ],
   "source": [
    "#calculating explained variance of the PCs\n",
    "explained_vars = []\n",
    "eigvals_total = sum(eigvals)\n",
    "\n",
    "#creating a np array of explained variance (cumulative) of the PCs\n",
    "x=0\n",
    "for i in eigpairs:\n",
    "    x+=i[0]/eigvals_total*100\n",
    "    explained_vars.append(x)\n",
    "explained_vars = np.array(explained_vars)\n",
    "print(\"Explained variance (cumulative):\")\n",
    "for i in explained_vars:\n",
    "    print(i)"
   ]
  },
  {
   "cell_type": "markdown",
   "id": "00e67e2c",
   "metadata": {},
   "source": [
    "We can use a scree plot to visualise the explained variance of the PCs."
   ]
  },
  {
   "cell_type": "code",
   "execution_count": 29,
   "id": "68053611",
   "metadata": {},
   "outputs": [
    {
     "data": {
      "image/png": "[encoded data removed]",
      "text/plain": [
       "<Figure size 432x288 with 1 Axes>"
      ]
     },
     "metadata": {
      "needs_background": "light"
     },
     "output_type": "display_data"
    }
   ],
   "source": [
    "principalcomponents = np.arange(len(eigvals)) + 1\n",
    "plt.plot(principalcomponents, explained_vars, 'o-', linewidth=2, color='blue')\n",
    "plt.xlabel('Principal Component')\n",
    "plt.ylabel('Explained Variance')\n",
    "plt.show()"
   ]
  },
  {
   "cell_type": "markdown",
   "id": "f571a977",
   "metadata": {},
   "source": [
    "From the explained variances list above and the scree plot, we can see that over 80% of the explained variance are from the first 6 PCs. Therefore we will be keeping these 6 PCs and dropping the 9 others.\n",
    "\n",
    "Step 5: Creating a projection matrix using the first 6 PCs."
   ]
  },
  {
   "cell_type": "code",
   "execution_count": 31,
   "id": "e51c5907",
   "metadata": {},
   "outputs": [
    {
     "name": "stdout",
     "output_type": "stream",
     "text": [
      "projmatrix:\n",
      " [[-0.27343435 -0.19631438 -0.20661782 -0.46505116 -0.24736102 -0.22483269]\n",
      " [ 0.32143426 -0.12119944  0.08896584 -0.04074178 -0.07564986  0.02386005]\n",
      " [ 0.14662788 -0.20742365 -0.4012108   0.31290825  0.1020581   0.06458699]\n",
      " [-0.1863462  -0.54002945  0.27996686  0.26047227  0.12651729  0.02875089]\n",
      " [-0.18982483 -0.55127379  0.27572009  0.22942092  0.11395961 -0.00753361]\n",
      " [ 0.19591088 -0.19570064 -0.45760156 -0.0603806   0.2985856  -0.19068403]\n",
      " [-0.29267881  0.01639944 -0.20692709  0.03926854  0.33192376 -0.11239536]\n",
      " [ 0.37090916 -0.18869968 -0.04205716 -0.12414528  0.0519303  -0.15466653]\n",
      " [-0.25190013  0.15395056 -0.30205421  0.25421138  0.16803169  0.1130158 ]\n",
      " [-0.23703088 -0.10423064 -0.38655338 -0.11280108  0.19532001  0.24946899]\n",
      " [ 0.13787701 -0.25771776 -0.25203535 -0.00541694 -0.46966575  0.6821361 ]\n",
      " [-0.37225353  0.11353194  0.02393755  0.06340335 -0.06690387  0.05380888]\n",
      " [-0.32330869  0.20523647  0.08119531  0.13163013 -0.14966402  0.2106224 ]\n",
      " [-0.01772527  0.00675913 -0.25243681  0.53837011 -0.55648825 -0.49123729]\n",
      " [-0.29321874 -0.27927853 -0.07044229 -0.39307836 -0.26102061 -0.20499509]]\n"
     ]
    }
   ],
   "source": [
    "projmatrix = np.hstack((eigpairs[0][1].reshape(15,1),\n",
    "                        eigpairs[1][1].reshape(15,1),\n",
    "                        eigpairs[2][1].reshape(15,1),\n",
    "                        eigpairs[3][1].reshape(15,1),\n",
    "                        eigpairs[4][1].reshape(15,1),\n",
    "                        eigpairs[5][1].reshape(15,1)))\n",
    "\n",
    "print('projmatrix:\\n', projmatrix)"
   ]
  },
  {
   "cell_type": "markdown",
   "id": "7a50062f",
   "metadata": {},
   "source": [
    "Step 6: Projecting the 191 countries onto the new projection matrix."
   ]
  },
  {
   "cell_type": "code",
   "execution_count": 36,
   "id": "76898654",
   "metadata": {},
   "outputs": [
    {
     "data": {
      "text/plain": [
       "array([[ 3.47344817, -0.53731581,  0.07408069, -0.23508806,  0.51147498,\n",
       "        -1.94100408],\n",
       "       [-0.20245224,  1.18681172,  0.61041416,  1.07050743, -0.23438051,\n",
       "        -0.59568395],\n",
       "       [ 0.20460793,  0.44391053, -0.72801306,  1.33005198,  1.06115138,\n",
       "        -1.6783524 ],\n",
       "       ...,\n",
       "       [ 2.70371875, -0.26293188,  0.19743945, -0.43257053,  1.21300032,\n",
       "        -1.36773286],\n",
       "       [ 3.09909365, -1.20792477, -1.51731857,  0.40881357,  0.22193358,\n",
       "         0.19849308],\n",
       "       [ 2.43272797, -0.36545741,  0.01881792, -0.51997277, -0.70122716,\n",
       "         1.04238477]])"
      ]
     },
     "execution_count": 36,
     "metadata": {},
     "output_type": "execute_result"
    }
   ],
   "source": [
    "data6D = final_scaled.dot(projmatrix)\n",
    "data6D"
   ]
  },
  {
   "cell_type": "code",
   "execution_count": 37,
   "id": "68e1185b",
   "metadata": {},
   "outputs": [
    {
     "name": "stdout",
     "output_type": "stream",
     "text": [
      "191\n"
     ]
    }
   ],
   "source": [
    "print(len(data6D))"
   ]
  },
  {
   "cell_type": "markdown",
   "id": "eea510ed",
   "metadata": {},
   "source": [
    "data6D is now an array of 191 x 6 dimensional data."
   ]
  },
  {
   "cell_type": "code",
   "execution_count": null,
   "id": "b87c0490",
   "metadata": {},
   "outputs": [],
   "source": []
  }
 ],
 "metadata": {
  "kernelspec": {
   "display_name": "Python 3 (ipykernel)",
   "language": "python",
   "name": "python3"
  },
  "language_info": {
   "codemirror_mode": {
    "name": "ipython",
    "version": 3
   },
   "file_extension": ".py",
   "mimetype": "text/x-python",
   "name": "python",
   "nbconvert_exporter": "python",
   "pygments_lexer": "ipython3",
   "version": "3.9.7"
  }
 },
 "nbformat": 4,
 "nbformat_minor": 5
}
